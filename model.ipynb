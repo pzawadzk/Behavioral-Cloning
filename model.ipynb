{
 "cells": [
  {
   "cell_type": "code",
   "execution_count": 281,
   "metadata": {
    "collapsed": false
   },
   "outputs": [
    {
     "name": "stdout",
     "output_type": "stream",
     "text": [
      "Populating the interactive namespace from numpy and matplotlib\n"
     ]
    },
    {
     "name": "stderr",
     "output_type": "stream",
     "text": [
      "/Users/Pawel/anaconda3/envs/keras/lib/python3.5/site-packages/IPython/core/magics/pylab.py:161: UserWarning: pylab import has clobbered these variables: ['test']\n",
      "`%matplotlib` prevents importing * from pylab and numpy\n",
      "  \"\\n`%matplotlib` prevents importing * from pylab and numpy\"\n"
     ]
    }
   ],
   "source": [
    "import pickle\n",
    "import PIL\n",
    "import numpy as np\n",
    "from sklearn.model_selection import train_test_split\n",
    "import math\n",
    "import pandas as pd\n",
    "from PIL import Image\n",
    "%pylab inline"
   ]
  },
  {
   "cell_type": "code",
   "execution_count": 282,
   "metadata": {
    "collapsed": true
   },
   "outputs": [],
   "source": [
    "# TODO: Build a two-layer feedforward neural network with Keras here.\n",
    "from keras.models import Sequential\n",
    "from keras.layers import Dense, Input, Activation, Dropout, MaxPooling2D, Conv2D, Flatten"
   ]
  },
  {
   "cell_type": "markdown",
   "metadata": {},
   "source": [
    "## Preprocess the Data\n",
    "\n",
    "Now that you've loaded the training data, preprocess the data such that it's in the range between -0.5 and 0.5."
   ]
  },
  {
   "cell_type": "code",
   "execution_count": 283,
   "metadata": {
    "collapsed": true
   },
   "outputs": [],
   "source": [
    "names=['center', 'left', 'right', 'angle',\n",
    "                            'throttle', 'brake', 'speed']"
   ]
  },
  {
   "cell_type": "code",
   "execution_count": 284,
   "metadata": {
    "collapsed": true
   },
   "outputs": [],
   "source": [
    "df = pd.read_csv('data/driving_log.csv')\n",
    "train, test = train_test_split(df, test_size = 0.2)"
   ]
  },
  {
   "cell_type": "code",
   "execution_count": 291,
   "metadata": {
    "collapsed": false
   },
   "outputs": [
    {
     "data": {
      "text/html": [
       "<div>\n",
       "<table border=\"1\" class=\"dataframe\">\n",
       "  <thead>\n",
       "    <tr style=\"text-align: right;\">\n",
       "      <th></th>\n",
       "      <th>center</th>\n",
       "      <th>left</th>\n",
       "      <th>right</th>\n",
       "      <th>steering</th>\n",
       "      <th>throttle</th>\n",
       "      <th>brake</th>\n",
       "      <th>speed</th>\n",
       "    </tr>\n",
       "  </thead>\n",
       "  <tbody>\n",
       "    <tr>\n",
       "      <th>4294</th>\n",
       "      <td>IMG/center_2016_12_01_13_39_53_519.jpg</td>\n",
       "      <td>IMG/left_2016_12_01_13_39_53_519.jpg</td>\n",
       "      <td>IMG/right_2016_12_01_13_39_53_519.jpg</td>\n",
       "      <td>0.000000</td>\n",
       "      <td>0.000000</td>\n",
       "      <td>0.0</td>\n",
       "      <td>25.80807</td>\n",
       "    </tr>\n",
       "    <tr>\n",
       "      <th>2933</th>\n",
       "      <td>IMG/center_2016_12_01_13_37_35_505.jpg</td>\n",
       "      <td>IMG/left_2016_12_01_13_37_35_505.jpg</td>\n",
       "      <td>IMG/right_2016_12_01_13_37_35_505.jpg</td>\n",
       "      <td>0.000000</td>\n",
       "      <td>0.985533</td>\n",
       "      <td>0.0</td>\n",
       "      <td>30.18664</td>\n",
       "    </tr>\n",
       "    <tr>\n",
       "      <th>7902</th>\n",
       "      <td>IMG/center_2016_12_01_13_46_28_277.jpg</td>\n",
       "      <td>IMG/left_2016_12_01_13_46_28_277.jpg</td>\n",
       "      <td>IMG/right_2016_12_01_13_46_28_277.jpg</td>\n",
       "      <td>0.000000</td>\n",
       "      <td>0.000000</td>\n",
       "      <td>0.0</td>\n",
       "      <td>25.58457</td>\n",
       "    </tr>\n",
       "    <tr>\n",
       "      <th>1705</th>\n",
       "      <td>IMG/center_2016_12_01_13_35_31_127.jpg</td>\n",
       "      <td>IMG/left_2016_12_01_13_35_31_127.jpg</td>\n",
       "      <td>IMG/right_2016_12_01_13_35_31_127.jpg</td>\n",
       "      <td>0.071328</td>\n",
       "      <td>0.985533</td>\n",
       "      <td>0.0</td>\n",
       "      <td>30.18530</td>\n",
       "    </tr>\n",
       "    <tr>\n",
       "      <th>5941</th>\n",
       "      <td>IMG/center_2016_12_01_13_43_09_347.jpg</td>\n",
       "      <td>IMG/left_2016_12_01_13_43_09_347.jpg</td>\n",
       "      <td>IMG/right_2016_12_01_13_43_09_347.jpg</td>\n",
       "      <td>-0.145206</td>\n",
       "      <td>0.985533</td>\n",
       "      <td>0.0</td>\n",
       "      <td>30.18619</td>\n",
       "    </tr>\n",
       "  </tbody>\n",
       "</table>\n",
       "</div>"
      ],
      "text/plain": [
       "                                      center  \\\n",
       "4294  IMG/center_2016_12_01_13_39_53_519.jpg   \n",
       "2933  IMG/center_2016_12_01_13_37_35_505.jpg   \n",
       "7902  IMG/center_2016_12_01_13_46_28_277.jpg   \n",
       "1705  IMG/center_2016_12_01_13_35_31_127.jpg   \n",
       "5941  IMG/center_2016_12_01_13_43_09_347.jpg   \n",
       "\n",
       "                                       left  \\\n",
       "4294   IMG/left_2016_12_01_13_39_53_519.jpg   \n",
       "2933   IMG/left_2016_12_01_13_37_35_505.jpg   \n",
       "7902   IMG/left_2016_12_01_13_46_28_277.jpg   \n",
       "1705   IMG/left_2016_12_01_13_35_31_127.jpg   \n",
       "5941   IMG/left_2016_12_01_13_43_09_347.jpg   \n",
       "\n",
       "                                       right  steering  throttle  brake  \\\n",
       "4294   IMG/right_2016_12_01_13_39_53_519.jpg  0.000000  0.000000    0.0   \n",
       "2933   IMG/right_2016_12_01_13_37_35_505.jpg  0.000000  0.985533    0.0   \n",
       "7902   IMG/right_2016_12_01_13_46_28_277.jpg  0.000000  0.000000    0.0   \n",
       "1705   IMG/right_2016_12_01_13_35_31_127.jpg  0.071328  0.985533    0.0   \n",
       "5941   IMG/right_2016_12_01_13_43_09_347.jpg -0.145206  0.985533    0.0   \n",
       "\n",
       "         speed  \n",
       "4294  25.80807  \n",
       "2933  30.18664  \n",
       "7902  25.58457  \n",
       "1705  30.18530  \n",
       "5941  30.18619  "
      ]
     },
     "execution_count": 291,
     "metadata": {},
     "output_type": "execute_result"
    }
   ],
   "source": [
    "test.head()"
   ]
  },
  {
   "cell_type": "code",
   "execution_count": 286,
   "metadata": {
    "collapsed": false
   },
   "outputs": [
    {
     "data": {
      "text/plain": [
       "<matplotlib.axes._subplots.AxesSubplot at 0x133bda6a0>"
      ]
     },
     "execution_count": 286,
     "metadata": {},
     "output_type": "execute_result"
    },
    {
     "data": {
      "image/png": "[encoded data removed]",
      "text/plain": [
       "<matplotlib.figure.Figure at 0x134fff3c8>"
      ]
     },
     "metadata": {},
     "output_type": "display_data"
    }
   ],
   "source": [
    "df.steering.hist(bins=20)"
   ]
  },
  {
   "cell_type": "code",
   "execution_count": 287,
   "metadata": {
    "collapsed": false
   },
   "outputs": [
    {
     "name": "stdout",
     "output_type": "stream",
     "text": [
      "0.00406964406483 0.128840072498\n"
     ]
    }
   ],
   "source": [
    "print (df.steering.mean(), df.steering.std())"
   ]
  },
  {
   "cell_type": "code",
   "execution_count": 301,
   "metadata": {
    "collapsed": false
   },
   "outputs": [],
   "source": [
    "def get_data(df):\n",
    "    X = []\n",
    "    y = []\n",
    "    for item in df[['center', 'steering']].iterrows():\n",
    "        X.append(Image.open('data/' + item[1].center))\n",
    "        y.append(item[1].steering)\n",
    "    y = np.array(y)\n",
    "    X = np.array([np.array(img) for img in X])\n",
    "    X = np.array(X)/255. - 0.5\n",
    "    return X, y"
   ]
  },
  {
   "cell_type": "code",
   "execution_count": 302,
   "metadata": {
    "collapsed": false
   },
   "outputs": [],
   "source": [
    "val_data = get_data(test)"
   ]
  },
  {
   "cell_type": "code",
   "execution_count": 303,
   "metadata": {
    "collapsed": false
   },
   "outputs": [],
   "source": [
    "def data_generator(df, batch_size=32):\n",
    "    df.reset_index(inplace=True, drop=True)\n",
    "    n_iter = math.ceil(df.shape[0]/batch_size)\n",
    "    while 1:\n",
    "        for i in range(n_iter)[::-1]:\n",
    "            start = i*batch_size\n",
    "            end = start + batch_size - 1\n",
    "            yield get_data(df.loc[start:end])\n"
   ]
  },
  {
   "cell_type": "raw",
   "metadata": {},
   "source": [
    "df.reset_index(inplace=True, drop=True)\n",
    "print(train.shape)\n",
    "batch_size = 32\n",
    "n_iter = math.ceil(train.shape[0]/batch_size)\n",
    "for i in range(n_iter)[::-1]:\n",
    "    start = i*batch_size\n",
    "    end = start + batch_size - 1\n",
    "    print(train.loc[start:end].shape[0], end)\n",
    "\n"
   ]
  },
  {
   "cell_type": "markdown",
   "metadata": {},
   "source": [
    "## Train the Network\n"
   ]
  },
  {
   "cell_type": "code",
   "execution_count": 304,
   "metadata": {
    "collapsed": false
   },
   "outputs": [
    {
     "name": "stdout",
     "output_type": "stream",
     "text": [
      "____________________________________________________________________________________________________\n",
      "Layer (type)                     Output Shape          Param #     Connected to                     \n",
      "====================================================================================================\n",
      "convolution2d_11 (Convolution2D) (None, 156, 316, 4)   304         convolution2d_input_11[0][0]     \n",
      "____________________________________________________________________________________________________\n",
      "maxpooling2d_11 (MaxPooling2D)   (None, 78, 158, 4)    0           convolution2d_11[0][0]           \n",
      "____________________________________________________________________________________________________\n",
      "dropout_11 (Dropout)             (None, 78, 158, 4)    0           maxpooling2d_11[0][0]            \n",
      "____________________________________________________________________________________________________\n",
      "activation_11 (Activation)       (None, 78, 158, 4)    0           dropout_11[0][0]                 \n",
      "____________________________________________________________________________________________________\n",
      "flatten_11 (Flatten)             (None, 49296)         0           activation_11[0][0]              \n",
      "____________________________________________________________________________________________________\n",
      "dense_21 (Dense)                 (None, 8)             394376      flatten_11[0][0]                 \n",
      "____________________________________________________________________________________________________\n",
      "dense_22 (Dense)                 (None, 1)             9           dense_21[0][0]                   \n",
      "====================================================================================================\n",
      "Total params: 394,689\n",
      "Trainable params: 394,689\n",
      "Non-trainable params: 0\n",
      "____________________________________________________________________________________________________\n",
      "Epoch 1/2\n",
      "343s - loss: 0.0188 - val_loss: 0.0158\n",
      "Epoch 2/2\n",
      "362s - loss: 0.0168 - val_loss: 0.0158\n"
     ]
    }
   ],
   "source": [
    "# TODO: Re-construct the network and add dropout after the pooling layer.\n",
    "\n",
    "model = Sequential()\n",
    "model.add(Conv2D(4, 5, 5, input_shape=(160, 320, 3)))\n",
    "model.add(MaxPooling2D((2,2)))\n",
    "model.add((Dropout(0.5)))\n",
    "model.add(Activation('relu'))\n",
    "model.add(Flatten())\n",
    "model.add(Dense(8, init='normal', activation='relu'))\n",
    "model.add(Dense(1, init='normal'))\n",
    "\n",
    "model.summary()\n",
    "# TODO: Compile and train the model here.\n",
    "model.compile(loss='mean_squared_error',\n",
    "              optimizer='adam')\n",
    "\n",
    "history = model.fit_generator(data_generator(train), samples_per_epoch = train.shape[0],\n",
    "                              nb_epoch = 2, validation_data=val_data,\n",
    "                              verbose=2)\n"
   ]
  },
  {
   "cell_type": "code",
   "execution_count": null,
   "metadata": {
    "collapsed": true
   },
   "outputs": [],
   "source": []
  },
  {
   "cell_type": "markdown",
   "metadata": {},
   "source": [
    "## Optimization\n"
   ]
  },
  {
   "cell_type": "code",
   "execution_count": 14,
   "metadata": {
    "collapsed": true
   },
   "outputs": [],
   "source": [
    "model.save_weights('model.h5')"
   ]
  },
  {
   "cell_type": "code",
   "execution_count": 16,
   "metadata": {
    "collapsed": true
   },
   "outputs": [],
   "source": [
    "model_json = model.to_json()\n",
    "with open(\"model.json\", \"w\") as json_file:\n",
    "    json_file.write(model_json)"
   ]
  },
  {
   "cell_type": "code",
   "execution_count": 15,
   "metadata": {
    "collapsed": true
   },
   "outputs": [],
   "source": [
    "import json\n",
    "with open('model.json', 'w') as outfile:\n",
    "    json.dump(model.to_json(), outfile)"
   ]
  },
  {
   "cell_type": "markdown",
   "metadata": {},
   "source": [
    "**Best Validation Accuracy:** (fill in here)"
   ]
  },
  {
   "cell_type": "markdown",
   "metadata": {},
   "source": [
    "## Testing\n",
    "Once you've picked out your best model, it's time to test it.\n",
    "\n",
    "Load up the test data and use the [`evaluate()` method](https://keras.io/models/model/#evaluate) to see how well it does.\n",
    "\n",
    "Hint 1: The `evaluate()` method should return an array of numbers. Use the `metrics_names()` method to get the labels."
   ]
  },
  {
   "cell_type": "markdown",
   "metadata": {},
   "source": [
    "**Test Accuracy:** (fill in here)"
   ]
  },
  {
   "cell_type": "markdown",
   "metadata": {},
   "source": [
    "## Summary\n",
    "Keras is a great tool to use if you want to quickly build a neural network and evaluate performance."
   ]
  }
 ],
 "metadata": {
  "anaconda-cloud": {},
  "kernelspec": {
   "display_name": "Python [default]",
   "language": "python",
   "name": "python3"
  },
  "language_info": {
   "codemirror_mode": {
    "name": "ipython",
    "version": 3
   },
   "file_extension": ".py",
   "mimetype": "text/x-python",
   "name": "python",
   "nbconvert_exporter": "python",
   "pygments_lexer": "ipython3",
   "version": "3.5.2"
  }
 },
 "nbformat": 4,
 "nbformat_minor": 0
}
